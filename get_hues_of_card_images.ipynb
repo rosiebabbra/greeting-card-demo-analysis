{
 "cells": [
  {
   "cell_type": "code",
   "execution_count": 9,
   "metadata": {},
   "outputs": [],
   "source": [
    "from PIL import Image\n",
    "import requests\n",
    "from io import BytesIO\n",
    "import pandas as pd\n",
    "from __future__ import print_function\n",
    "import binascii\n",
    "import struct\n",
    "from PIL import Image\n",
    "import numpy as np\n",
    "import scipy\n",
    "import scipy.misc\n",
    "import scipy.cluster"
   ]
  },
  {
   "cell_type": "code",
   "execution_count": 30,
   "metadata": {},
   "outputs": [],
   "source": [
    "df = pd.read_csv(\"hallmark_card_rgb_codes_sorted.csv\")\n",
    "df= df.drop(['Unnamed: 0', 'index', 'Unnamed: 0.1', 'Unnamed: 0.1.1', 'Unnamed: 0.1.1.1'],axis=1)"
   ]
  },
  {
   "cell_type": "code",
   "execution_count": 131,
   "metadata": {},
   "outputs": [],
   "source": [
    "def getHue(url):\n",
    "    \n",
    "    # use the url to open the image and save it\n",
    "    response = requests.get(url)\n",
    "    img = Image.open(BytesIO(response.content))\n",
    "    \n",
    "    # get hex codes and pixel counts of 5 most dominant colors in image\n",
    "    NUM_CLUSTERS = 5\n",
    "\n",
    "    im = img\n",
    "    im = im.resize((150, 150))      # optional, to reduce time\n",
    "    ar = np.asarray(im)\n",
    "    shape = ar.shape\n",
    "    ar = ar.reshape(scipy.product(shape[:2]), shape[2]).astype(float)\n",
    "    \n",
    "    codes, dist = scipy.cluster.vq.kmeans(ar, NUM_CLUSTERS)\n",
    "\n",
    "    vecs, dist = scipy.cluster.vq.vq(ar, codes)         # assign codes\n",
    "    counts, bins = scipy.histogram(vecs, len(codes))    # count occurrences\n",
    "\n",
    "    #index_max = scipy.argmax(counts)                    # find most frequent\n",
    "    #peak = codes[index_max]\n",
    "    #colour = binascii.hexlify(bytearray(int(c) for c in peak)).decode('ascii')\n",
    "    #print('most frequent is %s (#%s)' % (peak, colour))\n",
    "\n",
    "    # put the top 5 hex codes and their pixel counts in a df, sort so dominant is first\n",
    "    results = pd.DataFrame({'count':counts,'hex':list(codes)})\n",
    "    results = results.sort_values('count',ascending=False)\n",
    "    results = results.reset_index()\n",
    "    del results['index']\n",
    "\n",
    "    # if the dominant color is white, use the second most dominant color instead\n",
    "    if ((results['hex'][0][0] >= 240) & (results['hex'][0][0] >= 240) & (results['hex'][0][0] >= 240)): \n",
    "        # convert rgb values to 0-1 scale\n",
    "        R = results['hex'][1][0] / 255\n",
    "        G = results['hex'][1][1] / 255\n",
    "        B = results['hex'][1][2] / 255\n",
    "    else: # the dominant color isn't white, so use it\n",
    "        # convert rgb values to 0-1 scale\n",
    "        R = results['hex'][0][0] / 255\n",
    "        G = results['hex'][0][1] / 255\n",
    "        B = results['hex'][0][2] / 255\n",
    "\n",
    "    # put them in a list\n",
    "    rgb = [R,G,B]\n",
    "    \n",
    "    # calculate hue depending on rgb's max and min\n",
    "    if max(rgb) == min(rgb):\n",
    "        hue = 0\n",
    "    elif max(rgb) == R:\n",
    "        hue = (G-B)/(max(rgb)-min(rgb))\n",
    "    elif max(rgb) == G:\n",
    "        hue = 2 + (B-R)/(max(rgb)-min(rgb))\n",
    "    else:\n",
    "        hue = 4 + (R-G)/(max(rgb)-min(rgb))\n",
    "\n",
    "    # multply by 60 to convert to degrees on the color circle\n",
    "    hue = hue * 60\n",
    "\n",
    "    # if hue is negative, add 360 because a cirle has 360 degrees\n",
    "    if hue < 0:\n",
    "        hue = hue + 360\n",
    "\n",
    "    return hue"
   ]
  },
  {
   "cell_type": "code",
   "execution_count": 132,
   "metadata": {},
   "outputs": [],
   "source": [
    "df['hue'] = df['s3_link'].apply(getHue)\n",
    "df = df.sort_values('hue')\n",
    "df.to_csv(\"C:\\\\Users\\\\glol7001\\\\Documents\\\\hallmark_card_sorted_by_hue.csv\")"
   ]
  }
 ],
 "metadata": {
  "kernelspec": {
   "display_name": "Python 3",
   "language": "python",
   "name": "python3"
  },
  "language_info": {
   "codemirror_mode": {
    "name": "ipython",
    "version": 3
   },
   "file_extension": ".py",
   "mimetype": "text/x-python",
   "name": "python",
   "nbconvert_exporter": "python",
   "pygments_lexer": "ipython3",
   "version": "3.6.5"
  }
 },
 "nbformat": 4,
 "nbformat_minor": 2
}
