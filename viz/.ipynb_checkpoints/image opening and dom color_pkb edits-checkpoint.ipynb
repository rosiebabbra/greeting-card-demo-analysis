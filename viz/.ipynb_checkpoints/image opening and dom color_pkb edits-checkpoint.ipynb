{
 "cells": [
  {
   "cell_type": "code",
   "execution_count": 1,
   "metadata": {},
   "outputs": [],
   "source": [
    "import struct\n",
    "import binascii\n",
    "import requests\n",
    "import scipy\n",
    "\n",
    "import scipy.misc\n",
    "import scipy.cluster\n",
    "\n",
    "import numpy as np\n",
    "import pandas as pd\n",
    "\n",
    "from PIL import Image, ImageChops\n",
    "from io import BytesIO\n",
    "from PIL import Image"
   ]
  },
  {
   "cell_type": "markdown",
   "metadata": {},
   "source": [
    "### **1. Read in the link csv**"
   ]
  },
  {
   "cell_type": "code",
   "execution_count": 2,
   "metadata": {},
   "outputs": [
    {
     "data": {
      "text/plain": [
       "'/Users/rosiebabbra/Desktop/side-projects/hallmart-card-color-analysis/viz'"
      ]
     },
     "execution_count": 2,
     "metadata": {},
     "output_type": "execute_result"
    }
   ],
   "source": [
    "pwd"
   ]
  },
  {
   "cell_type": "code",
   "execution_count": 2,
   "metadata": {},
   "outputs": [],
   "source": [
    "df = pd.read_csv('../csvs/hallmark_image_s3_urls.csv')"
   ]
  },
  {
   "cell_type": "markdown",
   "metadata": {},
   "source": [
    "### **2. Get the most common color in each card**"
   ]
  },
  {
   "cell_type": "code",
   "execution_count": 3,
   "metadata": {},
   "outputs": [],
   "source": [
    "def get_pil_img(url):\n",
    "    \n",
    "    \"\"\" Returns the image from the URL in bytes form \"\"\"\n",
    "    \n",
    "    response = requests.get(url)\n",
    "    im = Image.open(BytesIO(response.content))\n",
    "    \n",
    "    return im"
   ]
  },
  {
   "cell_type": "markdown",
   "metadata": {},
   "source": [
    "### **3. Get rid of whitespace in all cards**"
   ]
  },
  {
   "cell_type": "code",
   "execution_count": 5,
   "metadata": {},
   "outputs": [],
   "source": [
    "def get_rid_of_whitespace(im):\n",
    "    \n",
    "    \"\"\" Gets rid of any white in an image, returns the image \"\"\"\n",
    "    \n",
    "#     im = get_pil_img(url)\n",
    "\n",
    "    bg = Image.new(im.mode, im.size, im.getpixel((0,0)))\n",
    "    diff = ImageChops.difference(im, bg)\n",
    "    diff = ImageChops.add(diff, diff, 2.0, -100)\n",
    "    bbox = diff.getbbox()\n",
    "    \n",
    "    if bbox:\n",
    "        return im.crop(bbox)"
   ]
  },
  {
   "cell_type": "code",
   "execution_count": null,
   "metadata": {},
   "outputs": [],
   "source": [
    "im = get_pil_img(df['s3_link'][39])\n",
    "get_rid_of_whitespace(im)"
   ]
  },
  {
   "cell_type": "markdown",
   "metadata": {},
   "source": [
    "Check that white space was removed..."
   ]
  },
  {
   "cell_type": "code",
   "execution_count": null,
   "metadata": {},
   "outputs": [],
   "source": [
    "get_pil_img(df['s3_link'][3]).size"
   ]
  },
  {
   "cell_type": "code",
   "execution_count": null,
   "metadata": {},
   "outputs": [],
   "source": [
    "get_rid_of_whitespace(im).size"
   ]
  },
  {
   "cell_type": "markdown",
   "metadata": {},
   "source": [
    "### **4. Convert de-whitespaced photo to JPEG to feed into color extractor**"
   ]
  },
  {
   "cell_type": "code",
   "execution_count": 6,
   "metadata": {},
   "outputs": [],
   "source": [
    "def convert_to_jpeg_img_plug_in(removed_white_space_img):   \n",
    "\n",
    "#     img = get_rid_of_whitespace(url)\n",
    "    img2 = removed_white_space_img.crop((1,20,50,80))\n",
    "\n",
    "    b = BytesIO()\n",
    "    im.save(b, format=\"jpeg\")\n",
    "    img3 = Image.open(b)\n",
    "    \n",
    "    return img3"
   ]
  },
  {
   "cell_type": "code",
   "execution_count": null,
   "metadata": {},
   "outputs": [],
   "source": [
    "convert_to_jpeg_img_plug_in(get_rid_of_whitespace(get_pil_img(df['s3_link'][39])))"
   ]
  },
  {
   "cell_type": "markdown",
   "metadata": {},
   "source": [
    "### **5. Get colors from images**"
   ]
  },
  {
   "cell_type": "code",
   "execution_count": 7,
   "metadata": {},
   "outputs": [],
   "source": [
    "from __future__ import print_function\n",
    "\n",
    "def get_color_codes(im):\n",
    "    \n",
    "#     pil_img = get_pil_img(url)\n",
    "#     white_space_removed_im = get_rid_of_whitespace(pil_img)\n",
    "#     im = convert_to_jpeg_img_plug_in(white_space_removed_im)\n",
    "\n",
    "    NUM_CLUSTERS = 5\n",
    "\n",
    "#     print('reading image')\n",
    "    im = im.resize((150, 150))      # optional, to reduce time\n",
    "    ar = np.asarray(im)\n",
    "    shape = ar.shape\n",
    "    ar = ar.reshape(scipy.product(shape[:2]), shape[2]).astype(float)\n",
    "\n",
    "#     print('finding clusters')\n",
    "    codes, dist = scipy.cluster.vq.kmeans(ar, NUM_CLUSTERS)\n",
    "#     print('cluster centres:\\n', codes)\n",
    "\n",
    "    vecs, dist = scipy.cluster.vq.vq(ar, codes)         # assign codes\n",
    "    counts, bins = scipy.histogram(vecs, len(codes))    # count occurrences\n",
    "\n",
    "    index_max = scipy.argmax(counts)                    # find most frequent\n",
    "    peak = codes[index_max]\n",
    "    colour = binascii.hexlify(bytearray(int(c) for c in peak)).decode('ascii')\n",
    "#     print('most frequent is %s (#%s)' % (peak, colour))\n",
    "    \n",
    "#     data = {}\n",
    "#     data[url] = {'hex': colour, 'rgb': peak}\n",
    "    \n",
    "    for x in peak:\n",
    "        if x > 225:\n",
    "            return codes[index_max - 1]\n",
    "        else:\n",
    "            return codes[index_max]"
   ]
  },
  {
   "cell_type": "markdown",
   "metadata": {},
   "source": [
    "### **6. Run**"
   ]
  },
  {
   "cell_type": "code",
   "execution_count": null,
   "metadata": {},
   "outputs": [],
   "source": [
    "# D3: Filter to get the hex codes for the category, sort by them"
   ]
  },
  {
   "cell_type": "code",
   "execution_count": 8,
   "metadata": {},
   "outputs": [],
   "source": [
    "def main(url):\n",
    "    \n",
    "    try:\n",
    "        pil_image = get_pil_img(url)\n",
    "#         im = get_rid_of_whitespace(pil_image)\n",
    "#         converted_im = convert_to_jpeg_img_plug_in(im)\n",
    "\n",
    "        color_code_dict = get_color_codes(pil_image)\n",
    "    #     df = pd.DataFrame.from_dict(test_dict, orient='index')\n",
    "\n",
    "        return color_code_dict\n",
    "    \n",
    "    except:\n",
    "        pass"
   ]
  },
  {
   "cell_type": "code",
   "execution_count": 9,
   "metadata": {},
   "outputs": [
    {
     "name": "stdout",
     "output_type": "stream",
     "text": [
      "CPU times: user 13min 42s, sys: 14.6 s, total: 13min 57s\n",
      "Wall time: 28min 44s\n"
     ]
    }
   ],
   "source": [
    "%time df['rgb'] = df['s3_link'].apply(main)"
   ]
  },
  {
   "cell_type": "code",
   "execution_count": 12,
   "metadata": {},
   "outputs": [
    {
     "name": "stdout",
     "output_type": "stream",
     "text": [
      "<class 'pandas.core.frame.DataFrame'>\n",
      "RangeIndex: 4358 entries, 0 to 4357\n",
      "Data columns (total 9 columns):\n",
      "Unnamed: 0        4358 non-null int64\n",
      "Unnamed: 0.1      4358 non-null int64\n",
      "Unnamed: 0.1.1    4358 non-null int64\n",
      "imageLink         4358 non-null object\n",
      "category          4358 non-null object\n",
      "cardName          4358 non-null object\n",
      "s3_file_name      4358 non-null object\n",
      "s3_link           4358 non-null object\n",
      "rgb               4358 non-null object\n",
      "dtypes: int64(3), object(6)\n",
      "memory usage: 306.5+ KB\n"
     ]
    }
   ],
   "source": [
    "df.info()"
   ]
  },
  {
   "cell_type": "code",
   "execution_count": 16,
   "metadata": {},
   "outputs": [],
   "source": [
    "df.to_csv('hallmark_card_rgb_codes.csv')"
   ]
  },
  {
   "cell_type": "code",
   "execution_count": 20,
   "metadata": {},
   "outputs": [
    {
     "data": {
      "text/plain": [
       "array([234.01605314, 204.78272903,  73.98200941])"
      ]
     },
     "execution_count": 20,
     "metadata": {},
     "output_type": "execute_result"
    }
   ],
   "source": [
    "df['rgb'][0]"
   ]
  },
  {
   "cell_type": "code",
   "execution_count": 21,
   "metadata": {},
   "outputs": [
    {
     "data": {
      "text/plain": [
       "511"
      ]
     },
     "execution_count": 21,
     "metadata": {},
     "output_type": "execute_result"
    }
   ],
   "source": [
    "234+204+73"
   ]
  },
  {
   "cell_type": "code",
   "execution_count": 23,
   "metadata": {},
   "outputs": [],
   "source": [
    "df['rgb_sum'] = df['rgb'].apply(lambda x: sum(x))"
   ]
  },
  {
   "cell_type": "code",
   "execution_count": 34,
   "metadata": {},
   "outputs": [],
   "source": [
    "df_sorted = df.sort_values(by='rgb_sum', ascending=False).reset_index()"
   ]
  },
  {
   "cell_type": "code",
   "execution_count": 39,
   "metadata": {},
   "outputs": [
    {
     "name": "stdout",
     "output_type": "stream",
     "text": [
      "Collecting plotly\n",
      "\u001b[?25l  Downloading https://files.pythonhosted.org/packages/ff/75/3982bac5076d0ce6d23103c03840fcaec90c533409f9d82c19f54512a38a/plotly-3.10.0-py2.py3-none-any.whl (41.5MB)\n",
      "\u001b[K    100% |████████████████████████████████| 41.5MB 92kB/s \n",
      "\u001b[?25hRequirement already satisfied, skipping upgrade: nbformat>=4.2 in /anaconda3/lib/python3.6/site-packages (from plotly) (4.4.0)\n",
      "Requirement already satisfied, skipping upgrade: pytz in /anaconda3/lib/python3.6/site-packages (from plotly) (2018.9)\n",
      "Requirement already satisfied, skipping upgrade: decorator>=4.0.6 in /anaconda3/lib/python3.6/site-packages (from plotly) (4.4.0)\n",
      "Collecting retrying>=1.3.3 (from plotly)\n",
      "  Downloading https://files.pythonhosted.org/packages/44/ef/beae4b4ef80902f22e3af073397f079c96969c69b2c7d52a57ea9ae61c9d/retrying-1.3.3.tar.gz\n",
      "Requirement already satisfied, skipping upgrade: requests in /anaconda3/lib/python3.6/site-packages (from plotly) (2.21.0)\n",
      "Requirement already satisfied, skipping upgrade: six in /anaconda3/lib/python3.6/site-packages (from plotly) (1.12.0)\n",
      "Requirement already satisfied, skipping upgrade: ipython_genutils in /anaconda3/lib/python3.6/site-packages (from nbformat>=4.2->plotly) (0.2.0)\n",
      "Requirement already satisfied, skipping upgrade: traitlets>=4.1 in /anaconda3/lib/python3.6/site-packages (from nbformat>=4.2->plotly) (4.3.2)\n",
      "Requirement already satisfied, skipping upgrade: jsonschema!=2.5.0,>=2.4 in /anaconda3/lib/python3.6/site-packages (from nbformat>=4.2->plotly) (2.6.0)\n",
      "Requirement already satisfied, skipping upgrade: jupyter_core in /anaconda3/lib/python3.6/site-packages (from nbformat>=4.2->plotly) (4.4.0)\n",
      "Requirement already satisfied, skipping upgrade: idna<2.9,>=2.5 in /anaconda3/lib/python3.6/site-packages (from requests->plotly) (2.8)\n",
      "Requirement already satisfied, skipping upgrade: urllib3<1.25,>=1.21.1 in /anaconda3/lib/python3.6/site-packages (from requests->plotly) (1.24.1)\n",
      "Requirement already satisfied, skipping upgrade: chardet<3.1.0,>=3.0.2 in /anaconda3/lib/python3.6/site-packages (from requests->plotly) (3.0.4)\n",
      "Requirement already satisfied, skipping upgrade: certifi>=2017.4.17 in /anaconda3/lib/python3.6/site-packages (from requests->plotly) (2019.3.9)\n",
      "Building wheels for collected packages: retrying\n",
      "  Building wheel for retrying (setup.py) ... \u001b[?25ldone\n",
      "\u001b[?25h  Stored in directory: /Users/rosiebabbra/Library/Caches/pip/wheels/d7/a9/33/acc7b709e2a35caa7d4cae442f6fe6fbf2c43f80823d46460c\n",
      "Successfully built retrying\n",
      "\u001b[31mError checking for conflicts.\n",
      "Traceback (most recent call last):\n",
      "  File \"/anaconda3/lib/python3.6/site-packages/pip/_vendor/pkg_resources/__init__.py\", line 2897, in _dep_map\n",
      "    return self.__dep_map\n",
      "  File \"/anaconda3/lib/python3.6/site-packages/pip/_vendor/pkg_resources/__init__.py\", line 2691, in __getattr__\n",
      "    raise AttributeError(attr)\n",
      "AttributeError: _DistInfoDistribution__dep_map\n",
      "\n",
      "During handling of the above exception, another exception occurred:\n",
      "\n",
      "Traceback (most recent call last):\n",
      "  File \"/anaconda3/lib/python3.6/site-packages/pip/_vendor/pkg_resources/__init__.py\", line 2888, in _parsed_pkg_info\n",
      "    return self._pkg_info\n",
      "  File \"/anaconda3/lib/python3.6/site-packages/pip/_vendor/pkg_resources/__init__.py\", line 2691, in __getattr__\n",
      "    raise AttributeError(attr)\n",
      "AttributeError: _pkg_info\n",
      "\n",
      "During handling of the above exception, another exception occurred:\n",
      "\n",
      "Traceback (most recent call last):\n",
      "  File \"/anaconda3/lib/python3.6/site-packages/pip/_internal/commands/install.py\", line 503, in _warn_about_conflicts\n",
      "    package_set, _dep_info = check_install_conflicts(to_install)\n",
      "  File \"/anaconda3/lib/python3.6/site-packages/pip/_internal/operations/check.py\", line 108, in check_install_conflicts\n",
      "    package_set, _ = create_package_set_from_installed()\n",
      "  File \"/anaconda3/lib/python3.6/site-packages/pip/_internal/operations/check.py\", line 47, in create_package_set_from_installed\n",
      "    package_set[name] = PackageDetails(dist.version, dist.requires())\n",
      "  File \"/anaconda3/lib/python3.6/site-packages/pip/_vendor/pkg_resources/__init__.py\", line 2635, in requires\n",
      "    dm = self._dep_map\n",
      "  File \"/anaconda3/lib/python3.6/site-packages/pip/_vendor/pkg_resources/__init__.py\", line 2899, in _dep_map\n",
      "    self.__dep_map = self._compute_dependencies()\n",
      "  File \"/anaconda3/lib/python3.6/site-packages/pip/_vendor/pkg_resources/__init__.py\", line 2908, in _compute_dependencies\n",
      "    for req in self._parsed_pkg_info.get_all('Requires-Dist') or []:\n",
      "  File \"/anaconda3/lib/python3.6/site-packages/pip/_vendor/pkg_resources/__init__.py\", line 2890, in _parsed_pkg_info\n",
      "    metadata = self.get_metadata(self.PKG_INFO)\n",
      "  File \"/anaconda3/lib/python3.6/site-packages/pip/_vendor/pkg_resources/__init__.py\", line 1410, in get_metadata\n",
      "    value = self._get(self._fn(self.egg_info, name))\n",
      "  File \"/anaconda3/lib/python3.6/site-packages/pip/_vendor/pkg_resources/__init__.py\", line 1522, in _get\n",
      "    with open(path, 'rb') as stream:\n",
      "FileNotFoundError: [Errno 2] No such file or directory: '/anaconda3/lib/python3.6/site-packages/tornado-6.0.2.dist-info/METADATA'\u001b[0m\n",
      "Installing collected packages: retrying, plotly\n",
      "Successfully installed plotly-3.10.0 retrying-1.3.3\n"
     ]
    }
   ],
   "source": [
    "! pip install plotly --upgrade"
   ]
  },
  {
   "cell_type": "code",
   "execution_count": 59,
   "metadata": {},
   "outputs": [],
   "source": [
    "#final_df = df_sorted.loc[:, df_sorted.columns != 'rgb_sum']\n",
    "final_df.to_csv('hallmark_card_hex_codes_sorted.csv')"
   ]
  },
  {
   "cell_type": "code",
   "execution_count": null,
   "metadata": {},
   "outputs": [],
   "source": []
  }
 ],
 "metadata": {
  "kernelspec": {
   "display_name": "Python 3",
   "language": "python",
   "name": "python3"
  },
  "language_info": {
   "codemirror_mode": {
    "name": "ipython",
    "version": 3
   },
   "file_extension": ".py",
   "mimetype": "text/x-python",
   "name": "python",
   "nbconvert_exporter": "python",
   "pygments_lexer": "ipython3",
   "version": "3.6.6"
  }
 },
 "nbformat": 4,
 "nbformat_minor": 2
}
